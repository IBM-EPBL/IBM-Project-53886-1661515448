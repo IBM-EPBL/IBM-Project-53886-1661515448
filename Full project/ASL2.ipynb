{
 "cells": [
  {
   "cell_type": "markdown",
   "metadata": {
    "colab_type": "text",
    "id": "view-in-github"
   },
   "source": [
    "<a href=\"https://colab.research.google.com/github/Arshad221b/Sign-Language-Recognition-/blob/master/ASL2.ipynb\" target=\"_parent\"><img src=\"https://colab.research.google.com/assets/colab-badge.svg\" alt=\"Open In Colab\"/></a>"
   ]
  },
  {
   "cell_type": "code",
   "execution_count": 1,
   "metadata": {
    "colab": {
     "base_uri": "https://localhost:8080/",
     "height": 74
    },
    "colab_type": "code",
    "id": "imJ4pdxMFuob",
    "outputId": "00e50642-4322-4f4e-e497-011de77529b8"
   },
   "outputs": [],
   "source": [
    "import keras\n",
    "import numpy as np\n",
    "import pandas as pd\n",
    "import cv2 \n",
    "from keras.models import Sequential \n",
    "from keras.layers import Conv2D,MaxPooling2D, Dense,Flatten\n",
    "from keras.datasets import mnist \n",
    "import matplotlib.pyplot as plt\n",
    "from keras.utils import np_utils\n",
    "from keras.optimizers import SGD"
   ]
  },
  {
   "cell_type": "code",
   "execution_count": 1,
   "metadata": {
    "colab": {
     "base_uri": "https://localhost:8080/",
     "height": 403
    },
    "colab_type": "code",
    "id": "qIP4zEpGGYl1",
    "outputId": "fc05d15f-6713-4e3b-f9e6-849225009a4d"
   },
   "outputs": [
    {
     "name": "stdout",
     "output_type": "stream",
     "text": [
      "Collecting PyDrive\n",
      "  Downloading PyDrive-1.3.1.tar.gz (987 kB)\n",
      "     ------------------------------------ 987.4/987.4 kB 245.3 kB/s eta 0:00:00\n",
      "  Preparing metadata (setup.py): started\n",
      "  Preparing metadata (setup.py): finished with status 'done'\n",
      "Collecting google-api-python-client>=1.2\n",
      "  Downloading google_api_python_client-2.66.0-py2.py3-none-any.whl (10.5 MB)\n",
      "     -------------------------------------- 10.5/10.5 MB 402.1 kB/s eta 0:00:00\n",
      "Collecting oauth2client>=4.0.0\n",
      "  Downloading oauth2client-4.1.3-py2.py3-none-any.whl (98 kB)\n",
      "     -------------------------------------- 98.2/98.2 kB 467.9 kB/s eta 0:00:00\n",
      "Requirement already satisfied: PyYAML>=3.0 in c:\\users\\karthi\\anaconda3\\lib\\site-packages (from PyDrive) (6.0)\n",
      "Collecting google-auth-httplib2>=0.1.0\n",
      "  Downloading google_auth_httplib2-0.1.0-py2.py3-none-any.whl (9.3 kB)\n",
      "Collecting httplib2<1dev,>=0.15.0\n",
      "  Downloading httplib2-0.21.0-py3-none-any.whl (96 kB)\n",
      "     -------------------------------------- 96.8/96.8 kB 426.4 kB/s eta 0:00:00\n",
      "Requirement already satisfied: google-auth<3.0.0dev,>=1.19.0 in c:\\users\\karthi\\anaconda3\\lib\\site-packages (from google-api-python-client>=1.2->PyDrive) (2.14.1)\n",
      "Collecting uritemplate<5,>=3.0.1\n",
      "  Downloading uritemplate-4.1.1-py2.py3-none-any.whl (10 kB)\n",
      "Collecting google-api-core!=2.0.*,!=2.1.*,!=2.2.*,!=2.3.0,<3.0.0dev,>=1.31.5\n",
      "  Downloading google_api_core-2.10.2-py3-none-any.whl (115 kB)\n",
      "     ------------------------------------ 115.6/115.6 kB 397.5 kB/s eta 0:00:00\n",
      "Requirement already satisfied: rsa>=3.1.4 in c:\\users\\karthi\\anaconda3\\lib\\site-packages (from oauth2client>=4.0.0->PyDrive) (4.9)\n",
      "Requirement already satisfied: pyasn1-modules>=0.0.5 in c:\\users\\karthi\\anaconda3\\lib\\site-packages (from oauth2client>=4.0.0->PyDrive) (0.2.8)\n",
      "Requirement already satisfied: six>=1.6.1 in c:\\users\\karthi\\anaconda3\\lib\\site-packages (from oauth2client>=4.0.0->PyDrive) (1.16.0)\n",
      "Requirement already satisfied: pyasn1>=0.1.7 in c:\\users\\karthi\\anaconda3\\lib\\site-packages (from oauth2client>=4.0.0->PyDrive) (0.4.8)\n",
      "Collecting googleapis-common-protos<2.0dev,>=1.56.2\n",
      "  Downloading googleapis_common_protos-1.57.0-py2.py3-none-any.whl (217 kB)\n",
      "     ------------------------------------ 218.0/218.0 kB 316.7 kB/s eta 0:00:00\n",
      "Requirement already satisfied: protobuf!=3.20.0,!=3.20.1,!=4.21.0,!=4.21.1,!=4.21.2,!=4.21.3,!=4.21.4,!=4.21.5,<5.0.0dev,>=3.19.5 in c:\\users\\karthi\\anaconda3\\lib\\site-packages (from google-api-core!=2.0.*,!=2.1.*,!=2.2.*,!=2.3.0,<3.0.0dev,>=1.31.5->google-api-python-client>=1.2->PyDrive) (3.19.6)\n",
      "Requirement already satisfied: requests<3.0.0dev,>=2.18.0 in c:\\users\\karthi\\anaconda3\\lib\\site-packages (from google-api-core!=2.0.*,!=2.1.*,!=2.2.*,!=2.3.0,<3.0.0dev,>=1.31.5->google-api-python-client>=1.2->PyDrive) (2.28.1)\n",
      "Requirement already satisfied: cachetools<6.0,>=2.0.0 in c:\\users\\karthi\\anaconda3\\lib\\site-packages (from google-auth<3.0.0dev,>=1.19.0->google-api-python-client>=1.2->PyDrive) (5.2.0)\n",
      "Requirement already satisfied: pyparsing!=3.0.0,!=3.0.1,!=3.0.2,!=3.0.3,<4,>=2.4.2 in c:\\users\\karthi\\anaconda3\\lib\\site-packages (from httplib2<1dev,>=0.15.0->google-api-python-client>=1.2->PyDrive) (3.0.9)\n",
      "Requirement already satisfied: idna<4,>=2.5 in c:\\users\\karthi\\anaconda3\\lib\\site-packages (from requests<3.0.0dev,>=2.18.0->google-api-core!=2.0.*,!=2.1.*,!=2.2.*,!=2.3.0,<3.0.0dev,>=1.31.5->google-api-python-client>=1.2->PyDrive) (3.3)\n",
      "Requirement already satisfied: urllib3<1.27,>=1.21.1 in c:\\users\\karthi\\anaconda3\\lib\\site-packages (from requests<3.0.0dev,>=2.18.0->google-api-core!=2.0.*,!=2.1.*,!=2.2.*,!=2.3.0,<3.0.0dev,>=1.31.5->google-api-python-client>=1.2->PyDrive) (1.26.11)\n",
      "Requirement already satisfied: certifi>=2017.4.17 in c:\\users\\karthi\\anaconda3\\lib\\site-packages (from requests<3.0.0dev,>=2.18.0->google-api-core!=2.0.*,!=2.1.*,!=2.2.*,!=2.3.0,<3.0.0dev,>=1.31.5->google-api-python-client>=1.2->PyDrive) (2022.9.14)\n",
      "Requirement already satisfied: charset-normalizer<3,>=2 in c:\\users\\karthi\\anaconda3\\lib\\site-packages (from requests<3.0.0dev,>=2.18.0->google-api-core!=2.0.*,!=2.1.*,!=2.2.*,!=2.3.0,<3.0.0dev,>=1.31.5->google-api-python-client>=1.2->PyDrive) (2.0.4)\n",
      "Building wheels for collected packages: PyDrive\n",
      "  Building wheel for PyDrive (setup.py): started\n",
      "  Building wheel for PyDrive (setup.py): finished with status 'done'\n",
      "  Created wheel for PyDrive: filename=PyDrive-1.3.1-py3-none-any.whl size=27436 sha256=b186a0c9d0606d7f19133faa308a9313c849094bf79c09c728517b4ab09a8941\n",
      "  Stored in directory: c:\\users\\karthi\\appdata\\local\\pip\\cache\\wheels\\6e\\98\\e3\\c91ae530a0508f87f1f24fe2b9df9d8e3952de1224d495e9e2\n",
      "Successfully built PyDrive\n",
      "Installing collected packages: uritemplate, httplib2, googleapis-common-protos, oauth2client, google-auth-httplib2, google-api-core, google-api-python-client, PyDrive\n",
      "Successfully installed PyDrive-1.3.1 google-api-core-2.10.2 google-api-python-client-2.66.0 google-auth-httplib2-0.1.0 googleapis-common-protos-1.57.0 httplib2-0.21.0 oauth2client-4.1.3 uritemplate-4.1.1\n"
     ]
    }
   ],
   "source": [
    "!pip install PyDrive"
   ]
  },
  {
   "cell_type": "code",
   "execution_count": 6,
   "metadata": {
    "colab": {},
    "colab_type": "code",
    "id": "ijUASkTROl6D"
   },
   "outputs": [
    {
     "ename": "ModuleNotFoundError",
     "evalue": "No module named 'google.colab'",
     "output_type": "error",
     "traceback": [
      "\u001b[1;31m---------------------------------------------------------------------------\u001b[0m",
      "\u001b[1;31mModuleNotFoundError\u001b[0m                       Traceback (most recent call last)",
      "\u001b[1;32m~\\AppData\\Local\\Temp\\ipykernel_5596\\1646625765.py\u001b[0m in \u001b[0;36m<module>\u001b[1;34m\u001b[0m\n\u001b[0;32m      2\u001b[0m \u001b[1;32mfrom\u001b[0m \u001b[0mpydrive\u001b[0m\u001b[1;33m.\u001b[0m\u001b[0mauth\u001b[0m \u001b[1;32mimport\u001b[0m \u001b[0mGoogleAuth\u001b[0m\u001b[1;33m\u001b[0m\u001b[1;33m\u001b[0m\u001b[0m\n\u001b[0;32m      3\u001b[0m \u001b[1;32mfrom\u001b[0m \u001b[0mpydrive\u001b[0m\u001b[1;33m.\u001b[0m\u001b[0mdrive\u001b[0m \u001b[1;32mimport\u001b[0m \u001b[0mGoogleDrive\u001b[0m\u001b[1;33m\u001b[0m\u001b[1;33m\u001b[0m\u001b[0m\n\u001b[1;32m----> 4\u001b[1;33m \u001b[1;32mfrom\u001b[0m \u001b[0mgoogle\u001b[0m\u001b[1;33m.\u001b[0m\u001b[0mcolab\u001b[0m \u001b[1;32mimport\u001b[0m \u001b[0mauth\u001b[0m\u001b[1;33m\u001b[0m\u001b[1;33m\u001b[0m\u001b[0m\n\u001b[0m\u001b[0;32m      5\u001b[0m \u001b[1;32mfrom\u001b[0m \u001b[0moauth2client\u001b[0m\u001b[1;33m.\u001b[0m\u001b[0mclient\u001b[0m \u001b[1;32mimport\u001b[0m \u001b[0mGoogleCredentials\u001b[0m\u001b[1;33m\u001b[0m\u001b[1;33m\u001b[0m\u001b[0m\n",
      "\u001b[1;31mModuleNotFoundError\u001b[0m: No module named 'google.colab'"
     ]
    }
   ],
   "source": [
    "import os\n",
    "from pydrive.auth import GoogleAuth\n",
    "from pydrive.drive import GoogleDrive\n",
    "from google.colab import auth\n",
    "from oauth2client.client import GoogleCredentials"
   ]
  },
  {
   "cell_type": "code",
   "execution_count": null,
   "metadata": {
    "colab": {},
    "colab_type": "code",
    "id": "2yEzz9S4RdR9"
   },
   "outputs": [],
   "source": [
    "auth.authenticate_user()\n",
    "gauth = GoogleAuth()\n",
    "gauth.credentials = GoogleCredentials.get_application_default()\n",
    "drive = GoogleDrive(gauth)"
   ]
  },
  {
   "cell_type": "code",
   "execution_count": null,
   "metadata": {
    "colab": {},
    "colab_type": "code",
    "id": "Z6DDOrSbRqA3"
   },
   "outputs": [],
   "source": [
    "download = drive.CreateFile({'id': '1wG0gS-bqjV6yz1YveuxkvHT5_2DOuT05'})\n",
    "download.GetContentFile('train.csv')\n",
    "train = pd.read_csv('train.csv')"
   ]
  },
  {
   "cell_type": "code",
   "execution_count": null,
   "metadata": {
    "colab": {},
    "colab_type": "code",
    "id": "2Rc5CNhVRs4b"
   },
   "outputs": [],
   "source": [
    "download = drive.CreateFile({'id': '1q_Zwlu3RncjKq1YpiVtkiMPxIIueGRYB'})\n",
    "download.GetContentFile('test.csv')\n",
    "test = pd.read_csv('test.csv')"
   ]
  },
  {
   "cell_type": "code",
   "execution_count": null,
   "metadata": {
    "colab": {
     "base_uri": "https://localhost:8080/",
     "height": 499
    },
    "colab_type": "code",
    "id": "Bzui153jR012",
    "outputId": "fa16d255-5c14-4976-b736-839e39a32c61"
   },
   "outputs": [],
   "source": [
    "display(train.info())\n",
    "\n",
    "display(test.info())\n",
    "\n",
    "display(train.head(n = 2))\n",
    "display(test.head(n = 2))"
   ]
  },
  {
   "cell_type": "code",
   "execution_count": null,
   "metadata": {
    "colab": {},
    "colab_type": "code",
    "id": "Yim557wpbSf_"
   },
   "outputs": [],
   "source": [
    "train_Y = train['label']\n",
    "test_Y = test['label']\n",
    "train_X = train.drop(['label'],axis = 1)\n",
    "test_X = test.drop(['label'],axis = 1)"
   ]
  },
  {
   "cell_type": "code",
   "execution_count": null,
   "metadata": {
    "colab": {},
    "colab_type": "code",
    "id": "PyiXHi2DkT4r"
   },
   "outputs": [],
   "source": [
    "train_X = train_X.astype('float32') / 255\n",
    "test_X = test_X.astype('float32')/255"
   ]
  },
  {
   "cell_type": "code",
   "execution_count": null,
   "metadata": {
    "colab": {
     "base_uri": "https://localhost:8080/",
     "height": 1062
    },
    "colab_type": "code",
    "id": "RpKOAcYvi-wS",
    "outputId": "d640461b-356f-4c33-e1e4-1a46cd289040"
   },
   "outputs": [],
   "source": [
    "display(train_Y)\n"
   ]
  },
  {
   "cell_type": "code",
   "execution_count": null,
   "metadata": {
    "colab": {},
    "colab_type": "code",
    "id": "zRdBQOJ0bVvF"
   },
   "outputs": [],
   "source": [
    "\n",
    "train_X = train_X.values.reshape(27455,784)\n",
    "test_X = test_X.values.reshape(7172,784)\n",
    "train_Y = keras.utils.to_categorical(train_Y,26)\n",
    "test_Y = keras.utils.to_categorical(test_Y,26)"
   ]
  },
  {
   "cell_type": "code",
   "execution_count": null,
   "metadata": {
    "colab": {},
    "colab_type": "code",
    "id": "00fdB0Yvl1d8"
   },
   "outputs": [],
   "source": [
    "model = Sequential()\n",
    "model.add(Dense(units=128,activation=\"relu\",input_shape=(784,)))\n",
    "model.add(Dense(units=128,activation=\"relu\"))\n",
    "model.add(Dense(units=128,activation=\"relu\"))\n",
    "model.add(Dense(units=128,activation=\"relu\"))\n",
    "model.add(Dense(units=128,activation=\"relu\"))\n",
    "model.add(Dense(units=26,activation=\"softmax\"))"
   ]
  },
  {
   "cell_type": "code",
   "execution_count": null,
   "metadata": {
    "colab": {
     "base_uri": "https://localhost:8080/",
     "height": 3359
    },
    "colab_type": "code",
    "id": "QIfU7or-fcAM",
    "outputId": "a570dd53-470a-4dd2-f202-090fdd291622"
   },
   "outputs": [],
   "source": [
    "model.compile(optimizer=SGD(0.001),loss=\"categorical_crossentropy\",metrics=[\"accuracy\"])\n",
    "model.fit(train_X,train_Y,batch_size=32,epochs=100,verbose=1)"
   ]
  },
  {
   "cell_type": "code",
   "execution_count": null,
   "metadata": {
    "colab": {
     "base_uri": "https://localhost:8080/",
     "height": 92
    },
    "colab_type": "code",
    "id": "tmXKzSMSfgDS",
    "outputId": "226ed580-45e6-479e-9576-2fc469348fd5"
   },
   "outputs": [],
   "source": [
    "accuracy = model.evaluate(x=test_X,y=test_Y,batch_size=32)\n",
    "print(\"Accuracy: \",accuracy[1])"
   ]
  },
  {
   "cell_type": "code",
   "execution_count": null,
   "metadata": {
    "colab": {
     "base_uri": "https://localhost:8080/",
     "height": 74
    },
    "colab_type": "code",
    "id": "QFWBt201hlEf",
    "outputId": "14a91e7e-72a3-479d-ec39-789c06ad6168"
   },
   "outputs": [],
   "source": [
    "img = test_X[1]\n",
    "test_img = img.reshape((1,784))\n",
    "img_class = model.predict_classes(test_img)\n",
    "prediction = img_class[0]\n",
    "classname = img_class[0]\n",
    "print(\"Class: \",classname)\n"
   ]
  },
  {
   "cell_type": "code",
   "execution_count": null,
   "metadata": {
    "colab": {
     "base_uri": "https://localhost:8080/",
     "height": 382
    },
    "colab_type": "code",
    "id": "5Yzwqb7Fhojk",
    "outputId": "a22d2978-ca5e-4dd3-fee1-afdb1a1a82e8"
   },
   "outputs": [],
   "source": [
    "img = img.reshape((28,28))\n",
    "plt.imshow(img)\n",
    "plt.title(classname)\n",
    "plt.show()"
   ]
  },
  {
   "cell_type": "code",
   "execution_count": null,
   "metadata": {
    "colab": {
     "base_uri": "https://localhost:8080/",
     "height": 94
    },
    "colab_type": "code",
    "id": "3NldTeSghsHB",
    "outputId": "2ce7b919-50c1-4cde-b2c7-05a8f2d8d717"
   },
   "outputs": [],
   "source": [
    "model.save_weights('model_weights.h5')\n",
    "weights_file = drive.CreateFile({'title' : 'model_weights.h5'})\n",
    "weights_file.SetContentFile('model_weights.h5')\n",
    "weights_file.Upload()\n",
    "drive.CreateFile({'id': weights_file.get('id')})"
   ]
  },
  {
   "cell_type": "code",
   "execution_count": 4,
   "metadata": {
    "colab": {
     "base_uri": "https://localhost:8080/",
     "height": 94
    },
    "colab_type": "code",
    "id": "b3MJfJrWyGNH",
    "outputId": "9ccecde1-5cca-4397-f338-72155c24d8a2"
   },
   "outputs": [
    {
     "ename": "NameError",
     "evalue": "name 'model' is not defined",
     "output_type": "error",
     "traceback": [
      "\u001b[1;31m---------------------------------------------------------------------------\u001b[0m",
      "\u001b[1;31mNameError\u001b[0m                                 Traceback (most recent call last)",
      "\u001b[1;32m~\\AppData\\Local\\Temp\\ipykernel_5596\\173915234.py\u001b[0m in \u001b[0;36m<module>\u001b[1;34m\u001b[0m\n\u001b[1;32m----> 1\u001b[1;33m \u001b[0mmodel\u001b[0m\u001b[1;33m.\u001b[0m\u001b[0msave\u001b[0m\u001b[1;33m(\u001b[0m\u001b[1;34m'model.h5'\u001b[0m\u001b[1;33m)\u001b[0m\u001b[1;33m\u001b[0m\u001b[1;33m\u001b[0m\u001b[0m\n\u001b[0m\u001b[0;32m      2\u001b[0m \u001b[0mweights_file\u001b[0m \u001b[1;33m=\u001b[0m \u001b[0mdrive\u001b[0m\u001b[1;33m.\u001b[0m\u001b[0mCreateFile\u001b[0m\u001b[1;33m(\u001b[0m\u001b[1;33m{\u001b[0m\u001b[1;34m'title'\u001b[0m \u001b[1;33m:\u001b[0m \u001b[1;34m'model.h5'\u001b[0m\u001b[1;33m}\u001b[0m\u001b[1;33m)\u001b[0m\u001b[1;33m\u001b[0m\u001b[1;33m\u001b[0m\u001b[0m\n\u001b[0;32m      3\u001b[0m \u001b[0mweights_file\u001b[0m\u001b[1;33m.\u001b[0m\u001b[0mSetContentFile\u001b[0m\u001b[1;33m(\u001b[0m\u001b[1;34m'model.h5'\u001b[0m\u001b[1;33m)\u001b[0m\u001b[1;33m\u001b[0m\u001b[1;33m\u001b[0m\u001b[0m\n\u001b[0;32m      4\u001b[0m \u001b[0mweights_file\u001b[0m\u001b[1;33m.\u001b[0m\u001b[0mUpload\u001b[0m\u001b[1;33m(\u001b[0m\u001b[1;33m)\u001b[0m\u001b[1;33m\u001b[0m\u001b[1;33m\u001b[0m\u001b[0m\n\u001b[0;32m      5\u001b[0m \u001b[0mdrive\u001b[0m\u001b[1;33m.\u001b[0m\u001b[0mCreateFile\u001b[0m\u001b[1;33m(\u001b[0m\u001b[1;33m{\u001b[0m\u001b[1;34m'id'\u001b[0m\u001b[1;33m:\u001b[0m \u001b[0mweights_file\u001b[0m\u001b[1;33m.\u001b[0m\u001b[0mget\u001b[0m\u001b[1;33m(\u001b[0m\u001b[1;34m'id'\u001b[0m\u001b[1;33m)\u001b[0m\u001b[1;33m}\u001b[0m\u001b[1;33m)\u001b[0m\u001b[1;33m\u001b[0m\u001b[1;33m\u001b[0m\u001b[0m\n",
      "\u001b[1;31mNameError\u001b[0m: name 'model' is not defined"
     ]
    }
   ],
   "source": [
    "model.save('model.h5')\n",
    "weights_file = drive.CreateFile({'title' : 'model.h5'})\n",
    "weights_file.SetContentFile('model.h5')\n",
    "weights_file.Upload()\n",
    "drive.CreateFile({'id': weights_file.get('id')})"
   ]
  },
  {
   "cell_type": "code",
   "execution_count": 5,
   "metadata": {
    "colab": {
     "base_uri": "https://localhost:8080/",
     "height": 173
    },
    "colab_type": "code",
    "id": "WFgvZoNXqsCJ",
    "outputId": "b5894724-4551-4efd-ffe9-41c446c360f7"
   },
   "outputs": [
    {
     "name": "stdout",
     "output_type": "stream",
     "text": [
      "Requirement already satisfied: h5py in c:\\users\\karthi\\anaconda3\\lib\\site-packages (3.7.0)\n",
      "Requirement already satisfied: pyyaml in c:\\users\\karthi\\anaconda3\\lib\\site-packages (6.0)\n",
      "Requirement already satisfied: numpy>=1.14.5 in c:\\users\\karthi\\anaconda3\\lib\\site-packages (from h5py) (1.21.5)\n"
     ]
    }
   ],
   "source": [
    "!pip install h5py pyyaml "
   ]
  },
  {
   "cell_type": "code",
   "execution_count": 0,
   "metadata": {
    "colab": {},
    "colab_type": "code",
    "id": "y7SmbytZx6Wa"
   },
   "outputs": [],
   "source": []
  }
 ],
 "metadata": {
  "accelerator": "GPU",
  "colab": {
   "collapsed_sections": [],
   "include_colab_link": true,
   "name": "ASL.ipynb",
   "provenance": [],
   "version": "0.3.2"
  },
  "kernelspec": {
   "display_name": "Python 3 (ipykernel)",
   "language": "python",
   "name": "python3"
  },
  "language_info": {
   "codemirror_mode": {
    "name": "ipython",
    "version": 3
   },
   "file_extension": ".py",
   "mimetype": "text/x-python",
   "name": "python",
   "nbconvert_exporter": "python",
   "pygments_lexer": "ipython3",
   "version": "3.9.13"
  }
 },
 "nbformat": 4,
 "nbformat_minor": 1
}
